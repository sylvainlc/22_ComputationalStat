{
 "cells": [
  {
   "cell_type": "code",
   "execution_count": null,
   "metadata": {},
   "outputs": [],
   "source": [
    "\"\"\"\"\"\"\"\"\"\"\"\"\"\"\"\"\"\n",
    "Required packages\n",
    "\"\"\"\"\"\"\"\"\"\"\"\"\"\"\"\"\"\n",
    "import math\n",
    "import numpy as np\n",
    "import pandas as pd\n",
    "import scipy.stats as st\n",
    "import matplotlib.pyplot as plt\n",
    "import seaborn as sns\n",
    "sns.set_theme() "
   ]
  },
  {
   "cell_type": "markdown",
   "metadata": {},
   "source": [
    "# <font color=darkcyan>Modèles de mélange</font>\n",
    "\n",
    "## <font color=darkorange>Densité de mélange </font>\n",
    "\n",
    "Considérons un mélange de $K$ lois dont la densité est donnée par\n",
    "$$f(x, \\theta)=\\sum_{k=1}^K\\pi_kf(x, \\theta_k),$$\n",
    "où $0<\\pi_k<1$, $\\sum_{k=1}^K\\pi_k=1$, $\\theta = (\\theta_1, \\ldots, \\theta_K)$. \n",
    "\n",
    "Dans l'optique du calcul de l'estimateur de maximum de vraisemblance, nous désirons calculer la logdensité du mélange, à partir des logdensités des composantes du mélange. "
   ]
  },
  {
   "cell_type": "markdown",
   "metadata": {},
   "source": [
    "#### Question 1\n",
    "Ecrire une fonction `mixture_logpdf` qui prend en argument une liste de logdensités et une liste de poids et renvoie la logdensité du mélange associé."
   ]
  },
  {
   "cell_type": "code",
   "execution_count": null,
   "metadata": {},
   "outputs": [],
   "source": []
  },
  {
   "cell_type": "markdown",
   "metadata": {},
   "source": [
    "### Mélange de gaussiennes multivariées\n",
    "\n",
    "Considérons un mélange de $K$ lois gaussiennes multivariées dont la densité est donnée par\n",
    "$$f_\\theta(x)=\\sum_{k=1}^K\\pi_kf_{\\mathcal N(\\mu_k,\\Sigma_k)}(x),$$\n",
    "où $0<\\pi_k<1$, $\\sum_{k=1}^K\\pi_k=1$, $\\mu_k\\in\\mathbb R^d$ et $\\Sigma_k \\in \\mathcal{M}_d(\\mathbb R)$ semi-definie positive, $k=1,\\dots,K$. "
   ]
  },
  {
   "cell_type": "markdown",
   "metadata": {},
   "source": [
    "#### Question 2\n",
    "Ecrire une fonction `multi_gauss_logpdf` qui prend en argument une moyenne et une matrice de covariance et renvoie la logdensité gaussienne associée à ces paramètres. On écrira une fonction pour une variable en dimension $d>1$. On rappelle que\n",
    "\n",
    "$$f_{\\mathcal N(\\mu,\\Sigma)}(x) = \\frac {1}{(2\\pi )^{d/2} \\det(\\Sigma )^{1/2}}\\;\\;e^{-{\\frac {1}{2}}(x-\\mu )^{\\top }\\Sigma ^{-1}(x-\\mu )} \\quad \\forall x\\in\\mathbb R ^d$$"
   ]
  },
  {
   "cell_type": "code",
   "execution_count": null,
   "metadata": {},
   "outputs": [],
   "source": []
  },
  {
   "cell_type": "markdown",
   "metadata": {},
   "source": [
    "#### Question 3\n",
    "Utilisez la fonction `mixture_logpdf` pour tracer la densité d'un mélange de trois gaussiennes en dimension 2, de paramètres\n",
    "\\begin{equation*}\n",
    "\\mu_1 = \\binom 2  2, \n",
    "\\Sigma_1 = \n",
    "\\begin{pmatrix}\n",
    "1. & 0.5 \\\\\n",
    "0.5 & 1.\n",
    "\\end{pmatrix}, \\quad\n",
    "\\mu_2 = -\\mu_1, \n",
    "\\Sigma_2 = \n",
    "\\begin{pmatrix}\n",
    "1. & -0.1 \\\\\n",
    "-0.1 & 1.\n",
    "\\end{pmatrix}, \\quad\n",
    "\\mu_3 = \\binom{-1.5 }{ 2.2}, \n",
    "\\Sigma_3 = \n",
    "\\begin{pmatrix}\n",
    "0.8 & 0 \\\\\n",
    "0 & 0.8\n",
    "\\end{pmatrix}\n",
    "\\end{equation*}\n",
    "\n",
    "Les mélanges de lois gaussiennes peuvent être implémentés directement en Python en utilisant le package `sklearn.mixture`, voir ici https://scikit-learn.org/stable/modules/mixture.html pour une aide détaillée (non nécessaire pour cette question).\n"
   ]
  },
  {
   "cell_type": "code",
   "execution_count": null,
   "metadata": {},
   "outputs": [],
   "source": []
  },
  {
   "cell_type": "markdown",
   "metadata": {},
   "source": [
    "## Mélange de lois uniformes\n",
    "Considérons les mélanges de lois uniformes $U_k \\sim \\mathcal U([0,\\lambda_k])$, $k=1,\\ldots,K$, dont la densité est donnée par \n",
    "$$f_\\theta(x)=\\sum_{k=1}^K\\pi_kf_{U_k}(x),$$\n",
    "où $0<\\pi_k<1$, $\\sum_{k=1}^K\\pi_k=1$ et $\\lambda_k>0$, $k=1,\\dots,K$.\n",
    "\n",
    "#### Question 4\n",
    "- Écrire une fonction `uniform_logpdf` qui prend en argument un paramètre $\\lambda$ et renvoie la logdensité de la loi uniforme $U\\sim\\mathcal U([0,\\lambda])$. \n",
    "\n",
    "- Quelles formes de densité peut-on obtenir avec un mélange de lois uniformes ?\n",
    "\n",
    "- Afficher dans un même graphe la densité du mélange uniforme de paramètres $(\\lambda_1, \\lambda_2, \\lambda_3) = (2,7,15)$ et de poids $(w_1, w_2, w_3) = (0.15, 0.40,0.45)$, ainsi que les densités de chacune de ses composantes.\n"
   ]
  },
  {
   "cell_type": "code",
   "execution_count": null,
   "metadata": {},
   "outputs": [],
   "source": []
  },
  {
   "cell_type": "markdown",
   "metadata": {},
   "source": [
    "## Mélange de lois Gamma\n",
    "\n",
    "Considérons les mélanges de loi Gamma $\\Gamma(\\alpha,\\beta)$ dont la densité est donnée par \n",
    "$$f_\\theta(x)=\\sum_{k=1}^K\\pi_kf_{\\Gamma(\\alpha_k,\\beta_k)}(x),$$\n",
    "où $0<\\pi_k<1$, $\\sum_{k=1}^K\\pi_k=1$ et $\\alpha_k>0, \\beta_k>0$ pour $k=1,\\dots,K$. \n",
    "\n",
    "#### Question 5\n",
    "- Écrire une fonction `gamma_logpdf` qui prend en argument deux paramètres $a$ et $b$ et renvoie la logdensité de la loi $\\Gamma(a,b)$. \n",
    "\n",
    "- Quelles formes de densité peut-on obtenir avec un mélange de lois Gamma ? \n",
    "\n",
    "\n",
    "- Afficher dans un même graphe la densité du mélange de lois Gamma de paramètres $a = (2.0,4.0,30.0)$ et $\n",
    "b = (1.0,0.5,2.5)$ et de poids $(w_1, w_2, w_3) = (0.15, 0.40,0.45)$, ainsi que les densités de chacune de ses composantes.\n",
    "\n",
    "- Comparer aux formes des mélanges gaussiens."
   ]
  },
  {
   "cell_type": "code",
   "execution_count": null,
   "metadata": {},
   "outputs": [],
   "source": []
  },
  {
   "cell_type": "markdown",
   "metadata": {},
   "source": [
    "## <font color=darkorange>Simulation de données</font>\n",
    "\n",
    "#### Question 5\n",
    "- Ecrire une fonction `gaussian_mixture` pour générer des réalisations d'un mélange gaussien à $K$ composantes. Les arguments de la fonction sont la taille d'échantillon `n`, le moyennes `mu`, variances `sigma` et poids des éléments du mélange `weights`.\n",
    "- Tester votre fonction en générant un grand échantillon d'un mélange gaussien de taille `n=5000` dont on compare l'histogramme à sa densité par un graphique."
   ]
  },
  {
   "cell_type": "code",
   "execution_count": null,
   "metadata": {},
   "outputs": [],
   "source": []
  },
  {
   "cell_type": "markdown",
   "metadata": {},
   "source": [
    "## <font color=darkorange>Estimation du modèle</font>\n",
    "\n",
    "#### Question 6\n",
    "- Estimez les paramètres du modèle en utilisant les échantillons précédents et le package `mixture` de `sklearn`. On pourra utiliser la classe `GaussianMixture` et la méthode `fit`.\n",
    "- Fournissez les paramètres estimés (à l'aide des attributs `means_`, `weights_`, etc.)."
   ]
  },
  {
   "cell_type": "code",
   "execution_count": null,
   "metadata": {},
   "outputs": [],
   "source": []
  }
 ],
 "metadata": {
  "kernelspec": {
   "display_name": "Python 3 (ipykernel)",
   "language": "python",
   "name": "python3"
  },
  "language_info": {
   "codemirror_mode": {
    "name": "ipython",
    "version": 3
   },
   "file_extension": ".py",
   "mimetype": "text/x-python",
   "name": "python",
   "nbconvert_exporter": "python",
   "pygments_lexer": "ipython3",
   "version": "3.9.13"
  }
 },
 "nbformat": 4,
 "nbformat_minor": 4
}
