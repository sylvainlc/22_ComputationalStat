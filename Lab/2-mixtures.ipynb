{
 "cells": [
  {
   "cell_type": "code",
   "execution_count": 1,
   "metadata": {},
   "outputs": [],
   "source": [
    "\"\"\"\"\"\"\"\"\"\"\"\"\"\"\"\"\"\n",
    "Required packages\n",
    "\"\"\"\"\"\"\"\"\"\"\"\"\"\"\"\"\"\n",
    "import math\n",
    "import numpy as np\n",
    "import pandas as pd\n",
    "import scipy.stats as st\n",
    "import matplotlib.pyplot as plt"
   ]
  },
  {
   "cell_type": "markdown",
   "metadata": {},
   "source": [
    "# <font color=darkcyan>Modèles de mélange</font>\n",
    "\n",
    "## <font color=darkorange>Densité de mélange </font>\n",
    "\n",
    "Considérons un mélange de $K$ lois dont la densité est donnée par\n",
    "$$f(x, \\theta)=\\sum_{k=1}^K\\pi_kf(x, \\theta_k),$$\n",
    "où $0<\\pi_k<1$, $\\sum_{k=1}^K\\pi_k=1$, $\\theta = (\\theta_1, \\ldots, \\theta_K)$. \n",
    "\n",
    "Dans l'optique du calcul de l'estimateur de maximum de vraisemblance, nous désirons calculer la logdensité du mélange, à partir des logdensités des composantes du mélange. "
   ]
  },
  {
   "cell_type": "markdown",
   "metadata": {},
   "source": [
    "#### Question 1\n",
    "Ecrire une fonction `mixture_logpdf` qui prend en argument une liste de logdensités et une liste de poids et renvoie la logdensité du mélange associé."
   ]
  },
  {
   "cell_type": "code",
   "execution_count": null,
   "metadata": {},
   "outputs": [],
   "source": [
    "def mixture_logpdf(log_probs, weights):\n",
    "    \"\"\"\n",
    "    Inputs\n",
    "    ----------\n",
    "    log_probs: loglikelihood of each term\n",
    "    weights: weights of the components of the mixture\n",
    "    \n",
    "    Outputs\n",
    "    -------\n",
    "    logp: loglikelihood of the mixture\n",
    "    \"\"\"\n",
    "    \n",
    "    def logp(x):\n",
    "        log_marginals = np.array([log_probs[j](x) for j in range(len(log_probs))])\n",
    "        return np.log(np.einsum('i,i...', weights, np.exp(log_marginals)))\n",
    "        #V2 : mais ca va demander de faire un reshape sur l'entree, quand on évalue sur une grille\n",
    "        #return np.log(np.dot(weights, np.exp(log_marginals)))\n",
    "    \n",
    "    return logp"
   ]
  },
  {
   "cell_type": "markdown",
   "metadata": {},
   "source": [
    "### Mélange de gaussiennes multivariées\n",
    "\n",
    "Considérons un mélange de $K$ lois gaussiennes multivariées dont la densité est donnée par\n",
    "$$f_\\theta(x)=\\sum_{k=1}^K\\pi_kf_{\\mathcal N(\\mu_k,\\Sigma_k)}(x),$$\n",
    "où $0<\\pi_k<1$, $\\sum_{k=1}^K\\pi_k=1$, $\\mu_k\\in\\mathbb R^d$ et $\\Sigma_k \\in \\mathcal{M}_d(\\mathbb R)$ semi-definie positive, $k=1,\\dots,K$. "
   ]
  },
  {
   "cell_type": "markdown",
   "metadata": {},
   "source": [
    "#### Question 2\n",
    "Ecrire une fonction `multi_gauss_logpdf` qui prend en argument une moyenne et une matrice de covariance et renvoie la logdensité gaussienne associée à ces paramètres. On écrira une fonction pour une variable en dimension $d>1$. On rappelle que\n",
    "\n",
    "$$f_{\\mathcal N(\\mu,\\Sigma)}(x) = \\frac {1}{(2\\pi )^{d/2} \\det(\\Sigma )^{1/2}}\\;\\;e^{-{\\frac {1}{2}}(x-\\mu )^{\\top }\\Sigma ^{-1}(x-\\mu )} \\quad \\forall x\\in\\mathbb R ^d$$"
   ]
  },
  {
   "cell_type": "markdown",
   "metadata": {},
   "source": [
    "$$\\log f_{\\mathcal N(\\mu,\\Sigma)}(x) = -\\frac 1 2 \\left(d\\log(2\\pi) +\\log(\\det(\\Sigma)) + (x-\\mu )^{\\top }\\Sigma ^{-1}(x-\\mu ) \\right)$$"
   ]
  },
  {
   "cell_type": "code",
   "execution_count": null,
   "metadata": {},
   "outputs": [],
   "source": [
    "def multi_gauss_logpdf(mu, sigma):\n",
    "    \"\"\"\n",
    "    Inputs\n",
    "    ----------\n",
    "    mu: mean of the Gaussian distribution\n",
    "    sigma: covariance matrix of the Gaussian distribution\n",
    "    \n",
    "    Outputs\n",
    "    -------\n",
    "    logp: loglikelihood\n",
    "    \"\"\"\n",
    "\n",
    "    def logp(x): \n",
    "        \"\"\"\n",
    "        Inputs\n",
    "        ----------\n",
    "        x: array of size nxd\n",
    "    \n",
    "        Outputs\n",
    "        -------\n",
    "        Gaussian logdensity evaluated on all n points\n",
    "        \"\"\"\n",
    "        d = mu.shape[0]\n",
    "        cst = d * np.log(2 * np.pi)\n",
    "        det = np.log(np.linalg.det(sigma))\n",
    "        diff = x-mu\n",
    "        quad_term = np.einsum('...i,ij,...j', diff, np.linalg.inv(sigma), diff)\n",
    "        #V2 : mais ca va demander de faire un reshape sur l'entree, quand on évalue sur une grille\n",
    "        #first_prod = diff @ np.linalg.inv(sigma)\n",
    "        #quad_term = np.sum(first_prod*diff,axis=-1) \n",
    "        \n",
    "        return - 0.5 *(cst +  det + quad_term) \n",
    "    \n",
    "    return logp"
   ]
  },
  {
   "cell_type": "markdown",
   "metadata": {},
   "source": [
    "#### Question 3\n",
    "Utilisez la fonction `mixture_logpdf` pour tracer la densité d'un mélange de trois gaussiennes en dimension 2, de paramètres\n",
    "\\begin{equation*}\n",
    "\\mu_1 = \\binom 2  2, \n",
    "\\Sigma_1 = \n",
    "\\begin{pmatrix}\n",
    "1. & 0.5 \\\\\n",
    "0.5 & 1.\n",
    "\\end{pmatrix}, \\quad\n",
    "\\mu_2 = -\\mu_1, \n",
    "\\Sigma_2 = \n",
    "\\begin{pmatrix}\n",
    "1. & -0.1 \\\\\n",
    "-0.1 & 1.\n",
    "\\end{pmatrix}, \\quad\n",
    "\\mu_3 = \\binom{-1.5 }{ 2.2}, \n",
    "\\Sigma_3 = \n",
    "\\begin{pmatrix}\n",
    "0.8 & 0 \\\\\n",
    "0 & 0.8\n",
    "\\end{pmatrix}\n",
    "\\end{equation*}\n",
    "\n",
    "Les mélanges de lois gaussiennes peuvent être implémentés directement en Python en utilisant le package `sklearn.mixture`, voir ici https://scikit-learn.org/stable/modules/mixture.html pour une aide détaillée (non nécessaire pour cette question).\n"
   ]
  },
  {
   "cell_type": "code",
   "execution_count": null,
   "metadata": {},
   "outputs": [],
   "source": [
    "#params \n",
    "mu1 = 2*np.ones(2)\n",
    "cov1 = np.array([[1., 0.5],\n",
    "                [0.5, 1.]])\n",
    "mu2 = -mu1\n",
    "cov2 = np.array([[1., -0.1],\n",
    "                [-0.1, 1.]])\n",
    "\n",
    "mu3 = np.array([-1.5, 2.2])\n",
    "cov3 = 0.8 * np.eye(2)"
   ]
  },
  {
   "cell_type": "code",
   "execution_count": null,
   "metadata": {},
   "outputs": [],
   "source": [
    "mixt  = mixture_logpdf([multi_gauss_logpdf(mu1, cov1), multi_gauss_logpdf(mu2, cov2), multi_gauss_logpdf(mu3, cov3)], [0.25, 0.35, 0.4])\n",
    "\n",
    "plt.figure(figsize=(8, 8), dpi=80)\n",
    "\n",
    "grid_lim = 6\n",
    "# grid on which the target pdf is displayed\n",
    "grid_plot = (-grid_lim, grid_lim, -grid_lim, grid_lim)\n",
    "# coordinates chosen on this grid\n",
    "nb_points = 100\n",
    "\n",
    "xplot = np.linspace(-grid_lim, grid_lim, nb_points)\n",
    "yplot = np.linspace(-grid_lim, grid_lim, nb_points)\n",
    "X, Y = np.meshgrid(xplot, yplot)\n",
    "\n",
    "#V2 : \n",
    "#XY = np.array([X.ravel(),Y.ravel()]).T\n",
    "\n",
    "XY = np.dstack((X,Y))\n",
    "print(XY.shape)\n",
    "\n",
    "Zplot = np.exp(mixt(XY))\n",
    "#V2 : \n",
    "#Zplot = Zplot.reshape(X.shape)\n",
    "\n",
    "fig, ax = plt.subplots(figsize=(8,10))\n",
    "ax.grid(True, color=\"white\")\n",
    "pcm = ax.pcolormesh(X, Y, Zplot, cmap = 'Blues')\n",
    "fig.colorbar(pcm,orientation='horizontal')"
   ]
  },
  {
   "cell_type": "code",
   "execution_count": null,
   "metadata": {},
   "outputs": [],
   "source": [
    "Zplot[0,0] = np.exp(mixt(np.array((X[0][0], Y[0][0]))))\n",
    "Zplot[0,0]"
   ]
  },
  {
   "cell_type": "markdown",
   "metadata": {},
   "source": [
    "## Mélange de lois uniformes\n",
    "Considérons les mélanges de lois uniformes $U_k \\sim \\mathcal U([0,\\lambda_k])$, $k=1,\\ldots,K$, dont la densité est donnée par \n",
    "$$f_\\theta(x)=\\sum_{k=1}^K\\pi_kf_{U_k}(x),$$\n",
    "où $0<\\pi_k<1$, $\\sum_{k=1}^K\\pi_k=1$ et $\\lambda_k>0$, $k=1,\\dots,K$.\n",
    "\n",
    "#### Question 4\n",
    "Écrire une fonction `uniform_logpdf` qui prend en argument un paramètre $\\lambda$ et renvoie la logdensité de la loi uniforme $U\\sim\\mathcal U([0,\\lambda])$. \n",
    "\n",
    "Quelles formes de densité peut-on obtenir avec un mélange de lois uniformes ?\n",
    "\n",
    "Afficher dans un même graphe la densité du mélange uniforme de paramètres $(\\lambda_1, \\lambda_2, \\lambda_3) = (2,7,15)$ et de poids $(w_1, w_2, w_3) = (0.15, 0.40,0.45)$, ainsi que les densités de chacune de ses composantes.\n"
   ]
  },
  {
   "cell_type": "code",
   "execution_count": null,
   "metadata": {},
   "outputs": [],
   "source": [
    "def uniform_logpdf(lmbd):\n",
    "    \"\"\"\n",
    "    Inputs\n",
    "    ----------\n",
    "    lmbd: upper bound of the support of the uniform distribution\n",
    "    \n",
    "    Outputs\n",
    "    -------\n",
    "    logpdf: loglikelihood\n",
    "    \"\"\"\n",
    "\n",
    "    def logpdf(x):\n",
    "        loglik = -np.log(lmbd)*np.ones(x.shape[0])\n",
    "        outer = ~((x>0) * (x<lmbd))\n",
    "        loglik[outer] = -math.inf\n",
    "        return loglik\n",
    "    \n",
    "    return logpdf"
   ]
  },
  {
   "cell_type": "code",
   "execution_count": null,
   "metadata": {},
   "outputs": [],
   "source": [
    "weights =  np.array([0.15, 0.40,0.45])\n",
    "lambdas = np.array([2,7.5,15.5])  "
   ]
  },
  {
   "cell_type": "code",
   "execution_count": null,
   "metadata": {},
   "outputs": [],
   "source": [
    "mixt_unif_logpdf  = mixture_logpdf([uniform_logpdf(lmbd) for lmbd in lambdas],weights)\n",
    "\n",
    "nb_points = 100\n",
    "x = np.linspace(0.01, 25.0, nb_points)\n",
    "\n",
    "fig, ax = plt.subplots()\n",
    "\n",
    "ax.plot(x,np.exp(mixt_unif_logpdf(x)),'b', lw=1, label = 'Mixture of uniform distributions')\n",
    "for i,lmbd in enumerate(lambdas):\n",
    "    ax.plot(x, np.exp(uniform_logpdf(lmbd)(x)), 'b--', alpha = 0.5, lw=1, label = fr'Component $\\lambda=${lmbd}, $\\pi=${weights[i]}')\n",
    "ax.tick_params(labelright=True)\n",
    "ax.grid(True)\n",
    "ax.legend()"
   ]
  },
  {
   "cell_type": "markdown",
   "metadata": {},
   "source": [
    "## Mélange de lois Gamma\n",
    "\n",
    "Considérons les mélanges de loi Gamma $\\Gamma(\\alpha,\\beta)$ dont la densité est donnée par \n",
    "$$f_\\theta(x)=\\sum_{k=1}^K\\pi_kf_{\\Gamma(\\alpha_k,\\beta_k)}(x),$$\n",
    "où $0<\\pi_k<1$, $\\sum_{k=1}^K\\pi_k=1$ et $\\alpha_k>0, \\beta_k>0$ pour $k=1,\\dots,K$. \n",
    "\n",
    "#### Question 5\n",
    "Écrire une fonction `gamma_logpdf` qui prend en argument deux paramètres $a$ et $b$ et renvoie la logdensité de la loi $\\Gamma(a,b)$. \n",
    "\n",
    "Quelles formes de densité peut-on obtenir avec un mélange de lois Gamma ? \n",
    "\n",
    "\n",
    "Afficher dans un même graphe la densité du mélange de lois Gamma de paramètres $a = (2.0,4.0,30.0)$ et $\n",
    "b = (1.0,0.5,2.5)$ et de poids $(w_1, w_2, w_3) = (0.15, 0.40,0.45)$, ainsi que les densités de chacune de ses composantes.\n",
    "\n",
    "Comparer aux formes des mélanges gaussiens."
   ]
  },
  {
   "cell_type": "code",
   "execution_count": null,
   "metadata": {},
   "outputs": [],
   "source": [
    "def gamma_logpdf(a,b):\n",
    "    \"\"\"\n",
    "    Inputs\n",
    "    ----------\n",
    "    a, b: shapes and inverse scales of the gamma distribution\n",
    "    \n",
    "    Outputs\n",
    "    -------\n",
    "    logp: loglikelihood\n",
    "    \"\"\"\n",
    "\n",
    "    def logp(x):\n",
    "        loglik = a*np.log(b) \n",
    "        loglik = loglik - np.log(math.gamma(a)) + (a-1)*np.log(x) - b*x\n",
    "        return loglik\n",
    "    \n",
    "    return logp"
   ]
  },
  {
   "cell_type": "code",
   "execution_count": null,
   "metadata": {},
   "outputs": [],
   "source": [
    "a = [2.0,4.0,30.0]\n",
    "b = [1.0,0.5,2.5]"
   ]
  },
  {
   "cell_type": "code",
   "execution_count": null,
   "metadata": {},
   "outputs": [],
   "source": [
    "mixt_gamma_logpdf = mixture_logpdf([gamma_logpdf(a_k,b_k) for a_k,b_k in zip(a,b)],weights)\n",
    "\n",
    "fig, ax = plt.subplots()\n",
    "\n",
    "ax.plot(x,np.exp(mixt_gamma_logpdf(x)),'b', lw=1, label = 'Mixture of gamma distributions')\n",
    "for i,(a_k, b_k) in enumerate(zip(a,b)):\n",
    "    ax.plot(x, np.exp(gamma_logpdf(a_k,b_k)(x)), 'b--', alpha = 0.5, lw=1, label = fr'Component $a=${a_k}, $b=${b_k}, $\\pi=${weights[i]}')\n",
    "ax.tick_params(labelright=True)\n",
    "ax.grid(True)\n",
    "ax.legend()"
   ]
  },
  {
   "cell_type": "markdown",
   "metadata": {},
   "source": [
    "## <font color=darkorange>Simulation de données</font>\n",
    "\n",
    "#### Question 5\n",
    "- Ecrire une fonction `gaussian_mixture` pour générer des réalisations d'un mélange gaussien à $K$ composantes. Les arguments de la fonction sont la taille d'échantillon `n`, le moyennes `mu`, variances `sigma` et poids des éléments du mélange `weights`.\n",
    "- Tester votre fonction en générant un grand échantillon d'un mélange gaussien de taille `n=5000` dont on compare l'histogramme à sa densité par un graphique."
   ]
  },
  {
   "cell_type": "code",
   "execution_count": null,
   "metadata": {},
   "outputs": [],
   "source": [
    "def gaussian_mixture(n, mu, sigma, weights):\n",
    "    \"\"\"\n",
    "    Inputs\n",
    "    ----------\n",
    "    n: sample size\n",
    "    mu: mean of each component\n",
    "    sigma: std of each component\n",
    "    weights: weights of the mixture\n",
    "    \n",
    "    Outputs\n",
    "    -------\n",
    "    samples: samples from the mixture model\n",
    "    \"\"\"\n",
    "    \n",
    "    x = np.random.normal(0, 1, n)\n",
    "    I = np.random.choice(mu.shape[0], size=n, p=weights)\n",
    "    \n",
    "    return mu[I]+sigma[I]*x"
   ]
  },
  {
   "cell_type": "code",
   "execution_count": null,
   "metadata": {},
   "outputs": [],
   "source": [
    "# number of observations\n",
    "n = 5000\n",
    "\n",
    "# means and variance to be estimated\n",
    "mu = np.array([-2,3])\n",
    "sigma = np.array([1.5,1])\n",
    "\n",
    "\n",
    "# prior probability of the first cluster/goup \n",
    "weights = np.array([0.3,0.7])\n",
    "\n",
    "samples = gaussian_mixture(n, mu, sigma, weights)"
   ]
  },
  {
   "cell_type": "code",
   "execution_count": null,
   "metadata": {},
   "outputs": [],
   "source": [
    "def Gaussian_pdf(x, mean, variance):\n",
    "  z = np.exp(-(x - mean)**2/(2*variance))/np.sqrt(2*np.pi*variance)\n",
    "  return z\n",
    "\n",
    "count, bins, ignored = plt.hist(samples, 100, density=True)\n",
    "x = np.linspace(np.min(mu) - 3*np.max(sigma),\n",
    "                np.max(mu) + 3*np.max(sigma), 100)\n",
    "plt.plot(x, Gaussian_pdf(x, mu[0], sigma[0]), linestyle = 'dashed', alpha = 0.5, color='red', label=\"True 1st density\")\n",
    "plt.plot(x, Gaussian_pdf(x, mu[1], sigma[1]), linestyle = 'dashed', alpha = 0.5, color='k', label=\"True 2nd density\")\n",
    "plt.plot(x, weights[0]*Gaussian_pdf(x, mu[0], sigma[0]) + (1-weights[0])*Gaussian_pdf(x, mu[1], sigma[1]), alpha = 0.5, color='b', label=\"True mixture density\")\n",
    "\n",
    "plt.title('Mixture of Gaussian distributions')\n",
    "plt.tick_params(labelright=True)\n",
    "plt.grid(True)\n",
    "plt.legend();"
   ]
  },
  {
   "cell_type": "markdown",
   "metadata": {},
   "source": [
    "## <font color=darkorange>Estimation du modèle</font>\n",
    "\n",
    "#### Question 6\n",
    "- Estimez les paramètres du modèle en utilisant les échantillons précédents et le package `mixture` de `sklearn`. On pourra utiliser la classe `GaussianMixture` et la méthode `fit`.\n",
    "- Fournissez les paramètres estimés (à l'aide des attributs `means_`, `weights_`, etc.)."
   ]
  },
  {
   "cell_type": "code",
   "execution_count": null,
   "metadata": {},
   "outputs": [],
   "source": [
    "from sklearn import mixture\n",
    "clf = mixture.GaussianMixture(n_components=2)\n",
    "X_train = np.reshape(samples, (5000,1))\n",
    "clf.fit(X_train)"
   ]
  },
  {
   "cell_type": "code",
   "execution_count": null,
   "metadata": {},
   "outputs": [],
   "source": [
    "clf.means_"
   ]
  },
  {
   "cell_type": "code",
   "execution_count": null,
   "metadata": {},
   "outputs": [],
   "source": [
    "clf.weights_"
   ]
  },
  {
   "cell_type": "code",
   "execution_count": null,
   "metadata": {},
   "outputs": [],
   "source": [
    "clf.covariances_"
   ]
  },
  {
   "cell_type": "code",
   "execution_count": null,
   "metadata": {},
   "outputs": [],
   "source": []
  }
 ],
 "metadata": {
  "kernelspec": {
   "display_name": "Python 3 (ipykernel)",
   "language": "python",
   "name": "python3"
  },
  "language_info": {
   "codemirror_mode": {
    "name": "ipython",
    "version": 3
   },
   "file_extension": ".py",
   "mimetype": "text/x-python",
   "name": "python",
   "nbconvert_exporter": "python",
   "pygments_lexer": "ipython3",
   "version": "3.9.13"
  }
 },
 "nbformat": 4,
 "nbformat_minor": 4
}
