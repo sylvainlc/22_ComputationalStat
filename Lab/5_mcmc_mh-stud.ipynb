{
 "cells": [
  {
   "cell_type": "markdown",
   "metadata": {
    "id": "BwUwrL3Vs6YA"
   },
   "source": [
    "## <font color=darkcyan> Markov chain and Markov chain Monte Carlo methods</font>\n",
    "$\n",
    "\\newcommand{\\PP}{\\mathbb P}\n",
    "\\newcommand{\\PE}{\\mathbb E}\n",
    "\\newcommand{\\Xset}{\\mathsf{X}}\n",
    "\\newcommand{\\nset}{\\mathbb{N}}\n",
    "\\newcommand{\\invcdf}[1]{F_{#1}^{\\leftarrow}}\n",
    "\\newcommand{\\rmd}{\\mathrm{d}}\n",
    "\\newcommand{\\rme}{\\mathrm{e}}\n",
    "$"
   ]
  },
  {
   "cell_type": "code",
   "execution_count": null,
   "metadata": {
    "id": "Yym8_tdfT3nu"
   },
   "outputs": [],
   "source": [
    "import matplotlib.pyplot as plt\n",
    "import numpy as np\n",
    "import numpy.random as npr\n",
    "import scipy.stats as stats\n",
    "from scipy.stats import expon, geom, norm\n",
    "from math import pi\n",
    "from pylab import *\n",
    "%matplotlib inline"
   ]
  },
  {
   "cell_type": "markdown",
   "metadata": {
    "id": "F0uyG-Ta11yX"
   },
   "source": [
    "#### <font color=darkorange> The invariant measure of a Markov chain </font>\n"
   ]
  },
  {
   "cell_type": "markdown",
   "metadata": {
    "id": "5GKS4wzw-e2w"
   },
   "source": [
    "\n",
    "#### Question 1\n",
    "\n",
    "\n",
    "\n",
    "Consider a Gaussian AR($1$) process, $X_t= \\mu + \\phi X_{t-1} + \\sigma Z_t$, where $(Z_t)_{t \\in \\nset}$ is an iid sequence of standard Gaussian random variables, independent of $X_0$. Assume that $|\\phi| < 1$. Show that the Gaussian distribution with mean $\\mu/(1-\\phi)$ and variance $\\sigma^2/(1-\\phi^2)$ is a stationary distribution of the Markov chain.\n",
    "\n"
   ]
  },
  {
   "cell_type": "markdown",
   "metadata": {},
   "source": [
    "#### Question 2\n",
    "\n",
    "Illustrate this property with an histogram of the values taken by a single trajectory of the Markov chain. "
   ]
  },
  {
   "cell_type": "code",
   "execution_count": null,
   "metadata": {
    "colab": {
     "base_uri": "https://localhost:8080/",
     "height": 281
    },
    "id": "tcBNLyCn_VYn",
    "outputId": "e332598e-991d-499e-eb15-108075955734"
   },
   "outputs": [],
   "source": [
    "# A compléter"
   ]
  },
  {
   "cell_type": "markdown",
   "metadata": {
    "id": "VUCIQn9ETl-R"
   },
   "source": [
    "#### <font color=darkorange> Symmetric Random Walk Metropolis Hasting algorithm </font>\n",
    "\n",
    "We now consider a target distribution which is the mixture of two Gaussian distributions, one centered at $a>0$ and the other one centered at $-a$. For all $x\\in\\mathbb{R}$, \n",
    "$$\n",
    "\\pi(x)=\\frac{1}{2}\\left(\\phi(x-a)+\\phi(x+a)\\right)=\\frac{1}{2} \\frac{\\rme^{-(x-a)^2/2}}{\\sqrt{2\\pi}}+\\frac{1}{2} \\frac{\\rme^{-(x+a)^2/2}}{\\sqrt{2\\pi}}\\,,\n",
    "$$\n",
    "where $\\phi$ is the density of the centered standard normal distribution. \n",
    "\n",
    "To target this distribution, we sample according to a Symmetric Random Walk Metropolis Hasting algorithm. Let $X_0$ be sampled with an arbitrary distribution. Then, for $k\\geq 0$, when the chain is at the state $X_k$, we propose a candidate $Y_{k+1}$ according to $Y_{k+1}=X_k+ \\sigma Z_k$ where $Z_k\\sim {\\mathcal N}(0,1)$ and then we accept $X_{k+1}=Y_{k+1}$ with probability $\\alpha(X_k,Y_{k+1})$, where $\\alpha(x,y)=\\frac{\\pi(y)}{\\pi(x)} \\wedge 1$. Otherwise, we set  $X_{k+1}=X_{k}$. "
   ]
  },
  {
   "cell_type": "markdown",
   "metadata": {},
   "source": [
    "#### Question 3\n",
    "\n",
    "- Write the Symmetric Random Walk MH loop with target distribution $\\pi$.\n",
    "- Display the trajectory of the Markov chain.\n",
    "- Display the histogram of the Markov chain as long as the target density.\n",
    "- Compare empirically several choices of $a$ and $\\sigma^2$."
   ]
  },
  {
   "cell_type": "code",
   "execution_count": null,
   "metadata": {
    "colab": {
     "background_save": true
    },
    "id": "xDS-IcTY0P7-",
    "outputId": "8c3cd777-9b51-46b8-832e-fad714983bb9"
   },
   "outputs": [],
   "source": [
    "# A compléter"
   ]
  },
  {
   "cell_type": "markdown",
   "metadata": {
    "id": "dSGUdjYE6UM9"
   },
   "source": [
    "#### <font color=darkorange> Independent Metropolis Hasting algorithm </font>\n",
    "\n",
    "We again consider a target distribution which is a mixture of two Gaussian distributions, one centered at $a>0$ and the other one centered at $-a$ \n",
    "$$\n",
    "\\pi(x)=\\frac{1}{2}\\left(\\phi(x-a)+\\phi(x+a)\\right)=\\frac{1}{2} \\frac{\\rme^{-(x-a)^2/2}}{\\sqrt{2\\pi}}+\\frac{1}{2} \\frac{\\rme^{-(x+a)^2/2}}{\\sqrt{2\\pi}},\n",
    "$$\n",
    "where $\\phi$ is the density of the centered standard normal distribution. \n",
    "\n",
    "To target this distribution, we sample according to a Metropolis Hasting algorithm with independent proposal.  Let $X_0$ be sampled with an arbitrary distribution. Then, for $k\\geq 0$, when the chain is at the state $X_k$, we propose a candidate $Y_{k+1}$ according to $Y_{k+1}=Z_k$ where $Z_k\\sim {\\mathcal N}(\\theta,\\sigma^2)$ and then we accept $X_{k+1}=Y_{k+1}$ with probability $\\alpha(X_k,Y_{k+1})$, where $\\alpha(x,y)=\\frac{\\pi(y)q(x)}{\\pi(x)q(y)} \\wedge 1=\\frac{\\pi(y)/q(y)}{\\pi(x)/q(x)} \\wedge 1$ and $q$ is the density of the Gaussian distribution with mean $\\theta$ and variance $\\sigma^2$. Otherwise, we set $X_{k+1}=X_{k}$. "
   ]
  },
  {
   "cell_type": "markdown",
   "metadata": {},
   "source": [
    "#### Question 4\n",
    "\n",
    "- Write the independent MH loop with target distribution $\\pi$.\n",
    "- Display the trajectory of the Markov chain.\n",
    "- Display the histogram of the Markov chain as long as the target density."
   ]
  },
  {
   "cell_type": "code",
   "execution_count": null,
   "metadata": {
    "colab": {
     "background_save": true
    },
    "id": "8h-UXiS_6Vee",
    "outputId": "56693df2-9935-4b79-fe10-5e0da5f3e84b"
   },
   "outputs": [],
   "source": [
    "# A compléter"
   ]
  },
  {
   "cell_type": "markdown",
   "metadata": {},
   "source": [
    "#### <font color=darkorange> Metropolis Adjusted Langevin algorithm (MALA) </font>\n"
   ]
  },
  {
   "cell_type": "markdown",
   "metadata": {},
   "source": [
    "``Objective target density:`` $\\pi$.\n",
    "\n",
    "At each iteration $k\\geqslant 0$, generate $Z_{k+1} \\sim X_k + \\frac{\\sigma}{2}\\nabla\\log\\pi(X_k) + \\sigma \\varepsilon_{k+1}$.\n",
    "\n",
    "Set $X_{k+1} = Z_{k+1}$ with probability $\\alpha(X_k,Z_{k+1})$ and  $X_{k+1} = X_k$ with probability $1-\\alpha(X_k,Z_{k+1})$, where \n",
    "\n",
    "$$\n",
    "\\alpha(x,y) = 1\\wedge\\frac{\\pi(y)}{\\pi(x)}\\frac{q(y,x)}{q(x,y)}\\,,\n",
    "$$\n",
    "\n",
    "where $y\\mapsto q(x,y)$ is the Gaussian pdf with mean $x + \\frac{\\sigma}{2}\\nabla\\log\\pi(x)$ and variance $\\sigma^2 I_d$."
   ]
  },
  {
   "cell_type": "markdown",
   "metadata": {},
   "source": [
    "#### Question 5\n",
    "\n",
    "- Write the Metropolis Adjusted Langevin algorithm loop with target distribution $\\pi$.\n",
    "- Display the trajectory of the Markov chain.\n",
    "- Display the histogram of the Markov chain as long as the target density.\n",
    "- Compare empirically several choices of $\\sigma^2$."
   ]
  },
  {
   "cell_type": "code",
   "execution_count": null,
   "metadata": {},
   "outputs": [],
   "source": [
    "# A compléter"
   ]
  },
  {
   "cell_type": "markdown",
   "metadata": {},
   "source": [
    "#### Question 6\n",
    "Compare all MH versions when the target $\\pi$ is a mixture of Gaussian distributions."
   ]
  },
  {
   "cell_type": "code",
   "execution_count": null,
   "metadata": {},
   "outputs": [],
   "source": [
    "# A compléter"
   ]
  },
  {
   "cell_type": "code",
   "execution_count": null,
   "metadata": {},
   "outputs": [],
   "source": []
  }
 ],
 "metadata": {
  "colab": {
   "provenance": []
  },
  "kernelspec": {
   "display_name": "Python 3 (ipykernel)",
   "language": "python",
   "name": "python3"
  },
  "language_info": {
   "codemirror_mode": {
    "name": "ipython",
    "version": 3
   },
   "file_extension": ".py",
   "mimetype": "text/x-python",
   "name": "python",
   "nbconvert_exporter": "python",
   "pygments_lexer": "ipython3",
   "version": "3.9.13"
  }
 },
 "nbformat": 4,
 "nbformat_minor": 1
}
